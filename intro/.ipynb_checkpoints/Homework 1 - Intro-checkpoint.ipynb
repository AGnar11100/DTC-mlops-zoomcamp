{
 "cells": [
  {
   "cell_type": "markdown",
   "id": "0df3eb3d",
   "metadata": {},
   "source": [
    "Download the data for January and February 2022 for Yellow Taxi Trip Records"
   ]
  },
  {
   "cell_type": "code",
   "execution_count": 199,
   "id": "a574dd48",
   "metadata": {},
   "outputs": [],
   "source": [
    "# EDA\n",
    "import pandas as pd\n",
    "import matplotlib.pyplot as plt\n",
    "import seaborn as sns\n",
    "\n",
    "# Modeling\n",
    "from sklearn.feature_extraction import DictVectorizer\n",
    "from sklearn.linear_model import LinearRegression\n",
    "from sklearn.linear_model import Lasso\n",
    "from sklearn.metrics import mean_squared_error\n",
    "\n",
    "# \n",
    "import pickle"
   ]
  },
  {
   "cell_type": "code",
   "execution_count": 200,
   "id": "1d2745dc",
   "metadata": {},
   "outputs": [],
   "source": [
    "# read in both parquets\n",
    "\n",
    "df_jan = pd.read_parquet('./data/yellow_tripdata_2022-01.parquet')\n",
    "\n",
    "# df_feb = pd.read_parquet('./data/yellow_tripdata_2022-02.parquet')\n",
    "\n",
    "# dfs = [jan_df, feb_df]\n",
    "\n",
    "# df_main = pd.concat(dfs)"
   ]
  },
  {
   "cell_type": "markdown",
   "id": "d5fdf8e6",
   "metadata": {},
   "source": [
    "Now let's compute the duration variable. It should contain the duration of a ride in minutes.\n",
    "\n",
    "**What's the standard deviation of the trips duration in January?**\n",
    "\n",
    "1) 41.45\n",
    "\n",
    "2) 46.45 <--- CORRECT ANSWER, SEE BELOW\n",
    "\n",
    "3) 51.45\n",
    "\n",
    "4) 56.45"
   ]
  },
  {
   "cell_type": "code",
   "execution_count": 202,
   "id": "11a5e29b",
   "metadata": {},
   "outputs": [],
   "source": [
    "# create duration field\n",
    "df_jan['duration'] = df_jan.tpep_dropoff_datetime - df_jan.tpep_pickup_datetime\n",
    "\n",
    "# convert duration into minutes as requested\n",
    "df_jan.duration = df_jan.duration.apply(lambda tm: tm.total_seconds() / 60)"
   ]
  },
  {
   "cell_type": "code",
   "execution_count": 203,
   "id": "0c4313d3",
   "metadata": {},
   "outputs": [
    {
     "data": {
      "text/plain": [
       "46.45"
      ]
     },
     "execution_count": 203,
     "metadata": {},
     "output_type": "execute_result"
    }
   ],
   "source": [
    "round(df_jan.duration.std(), 2)"
   ]
  },
  {
   "cell_type": "markdown",
   "id": "6aecb358",
   "metadata": {},
   "source": [
    "Next, we need to check the distribution of the duration variable. There are some outliers. Let's remove them and keep only the records where the duration was between 1 and 60 minutes (inclusive).\n",
    "\n",
    "**What fraction of the records left after you dropped the outliers?**\n",
    "\n",
    "1) 90%\n",
    "\n",
    "2) 92%\n",
    "\n",
    "3) 95%\n",
    "\n",
    "4) 98% <-- CORRECT ANSWER, SEE BELOW"
   ]
  },
  {
   "cell_type": "code",
   "execution_count": 204,
   "id": "a32cc052",
   "metadata": {},
   "outputs": [],
   "source": [
    "df_jan_1_to_60 = df_jan[(df_jan.duration >= 1) & (df_jan.duration <= 60)]"
   ]
  },
  {
   "cell_type": "code",
   "execution_count": 205,
   "id": "2540d405",
   "metadata": {},
   "outputs": [
    {
     "name": "stdout",
     "output_type": "stream",
     "text": [
      "Fraction of data left after removing outliers:  0.98\n"
     ]
    }
   ],
   "source": [
    "# find the cardinal percent difference between df_jan and the df_jan_1_to_60\n",
    "print(\"Fraction of data left after removing outliers: \", round(len(df_jan_1_to_60) / len(df_jan), 2))"
   ]
  },
  {
   "cell_type": "markdown",
   "id": "1a87be40",
   "metadata": {},
   "source": [
    "Let's apply one-hot encoding to the pickup and dropoff location IDs. We'll use only these two features for our model.\n",
    "\n",
    "**What's the dimensionality of this matrix (number of columns)?**\n",
    "1) 2\n",
    "\n",
    "2) 155\n",
    "\n",
    "3) 345\n",
    "\n",
    "4) 515 <-- CORRECT ANSWER, SEE BELOW\n",
    "\n",
    "5) 715"
   ]
  },
  {
   "cell_type": "code",
   "execution_count": 206,
   "id": "bcff7fcc",
   "metadata": {},
   "outputs": [],
   "source": [
    "# pickup and dropoff location ID, we'll use only these two features for our model\n",
    "categorical = ['PULocationID', 'DOLocationID']\n",
    "numerical = ['duration']"
   ]
  },
  {
   "cell_type": "code",
   "execution_count": 207,
   "id": "3ffdf726",
   "metadata": {
    "scrolled": true
   },
   "outputs": [
    {
     "name": "stderr",
     "output_type": "stream",
     "text": [
      "/tmp/ipykernel_1619/1362714942.py:2: SettingWithCopyWarning: \n",
      "A value is trying to be set on a copy of a slice from a DataFrame.\n",
      "Try using .loc[row_indexer,col_indexer] = value instead\n",
      "\n",
      "See the caveats in the documentation: https://pandas.pydata.org/pandas-docs/stable/user_guide/indexing.html#returning-a-view-versus-a-copy\n",
      "  df_jan_1_to_60[categorical] = df_jan_1_to_60[categorical].astype(str)\n"
     ]
    }
   ],
   "source": [
    "# cast values to strs\n",
    "df_jan_1_to_60[categorical] = df_jan_1_to_60[categorical].astype(str)"
   ]
  },
  {
   "cell_type": "code",
   "execution_count": 208,
   "id": "d0b63fe2",
   "metadata": {},
   "outputs": [],
   "source": [
    "# Turn the dataframe into a list of dictionaries\n",
    "train_dicts = df_jan_1_to_60[categorical].to_dict(orient='records')"
   ]
  },
  {
   "cell_type": "code",
   "execution_count": 209,
   "id": "d1076f22",
   "metadata": {},
   "outputs": [],
   "source": [
    "# Fit a dictionary vectorizer\n",
    "# Get a feature matrix from it\n",
    "dv = DictVectorizer()\n",
    "X_train = dv.fit_transform(train_dicts)"
   ]
  },
  {
   "cell_type": "code",
   "execution_count": 220,
   "id": "6ab9611c",
   "metadata": {},
   "outputs": [
    {
     "name": "stdout",
     "output_type": "stream",
     "text": [
      "The dimensionality of this matrix (number of columns) is:  515\n"
     ]
    }
   ],
   "source": [
    "print(\"The dimensionality of this matrix (number of columns) is: \",X_train.get_shape()[1])"
   ]
  },
  {
   "cell_type": "code",
   "execution_count": 210,
   "id": "c50d4e0a",
   "metadata": {},
   "outputs": [],
   "source": [
    "# get labels for training\n",
    "y_train = df_jan_1_to_60['duration'].values"
   ]
  },
  {
   "cell_type": "markdown",
   "id": "5a323b9d",
   "metadata": {},
   "source": [
    "Now let's use the feature matrix from the previous step to train a model.\n",
    "\n",
    "Train a plain linear regression model with default parameters\n",
    "Calculate the RMSE of the model on the training data\n",
    "What's the RMSE on train?\n",
    "\n",
    "1) 6.99 <-- CORRECT ANSWER, SEE BELOW\n",
    "\n",
    "2) 11.99\n",
    "\n",
    "3) 16.99\n",
    "\n",
    "4) 21.99"
   ]
  },
  {
   "cell_type": "code",
   "execution_count": 211,
   "id": "a3555a56",
   "metadata": {},
   "outputs": [],
   "source": [
    "# create and train LR model on training data\n",
    "lr = LinearRegression()\n",
    "lr.fit(X_train, y_train)\n",
    "\n",
    "y_pred = lr.predict(X_train)"
   ]
  },
  {
   "cell_type": "code",
   "execution_count": 212,
   "id": "999f2b2b",
   "metadata": {},
   "outputs": [
    {
     "name": "stdout",
     "output_type": "stream",
     "text": [
      "The RMSE on train is: 6.99\n"
     ]
    }
   ],
   "source": [
    "print(\"The RMSE on train is:\",round(mean_squared_error(y_train, y_pred, squared=False), 2))"
   ]
  },
  {
   "cell_type": "markdown",
   "id": "77f03ae6",
   "metadata": {},
   "source": [
    "Now let's apply this model to the validation dataset (February 2022).\n",
    "\n",
    "What's the RMSE on validation?\n",
    "\n",
    "1) 7.79 <-- CORRECT ANSWER, SEE BOTTOM\n",
    "\n",
    "2) 12.79\n",
    "\n",
    "3) 17.79\n",
    "\n",
    "4) 22.79"
   ]
  },
  {
   "cell_type": "code",
   "execution_count": 213,
   "id": "1dabe621",
   "metadata": {},
   "outputs": [],
   "source": [
    "# save some time processing the validation set\n",
    "def read_dataframe(filename):\n",
    "    if filename.endswith('.csv'):\n",
    "        df = pd.read_csv(filename)\n",
    "\n",
    "        df.tpep_dropoff_datetime = pd.to_datetime(df.tpep_dropoff_datetime)\n",
    "        df.tpep_pickup_datetime = pd.to_datetime(df.tpep_pickup_datetime)\n",
    "    elif filename.endswith('.parquet'):\n",
    "        df = pd.read_parquet(filename)\n",
    "\n",
    "    df['duration'] = df.tpep_dropoff_datetime - df.tpep_pickup_datetime\n",
    "    df.duration = df.duration.apply(lambda td: td.total_seconds() / 60)\n",
    "\n",
    "    df = df[(df.duration >= 1) & (df.duration <= 60)]\n",
    "\n",
    "    categorical = ['PULocationID', 'DOLocationID']\n",
    "    df[categorical] = df[categorical].astype(str)\n",
    "    \n",
    "    return df"
   ]
  },
  {
   "cell_type": "code",
   "execution_count": 214,
   "id": "a519dbbc",
   "metadata": {},
   "outputs": [
    {
     "data": {
      "text/plain": [
       "Index(['VendorID', 'tpep_pickup_datetime', 'tpep_dropoff_datetime',\n",
       "       'passenger_count', 'trip_distance', 'RatecodeID', 'store_and_fwd_flag',\n",
       "       'PULocationID', 'DOLocationID', 'payment_type', 'fare_amount', 'extra',\n",
       "       'mta_tax', 'tip_amount', 'tolls_amount', 'improvement_surcharge',\n",
       "       'total_amount', 'congestion_surcharge', 'airport_fee', 'duration'],\n",
       "      dtype='object')"
      ]
     },
     "execution_count": 214,
     "metadata": {},
     "output_type": "execute_result"
    }
   ],
   "source": [
    "df_feb_val = read_dataframe('./data/yellow_tripdata_2022-02.parquet')\n",
    "df_feb_val.columns"
   ]
  },
  {
   "cell_type": "code",
   "execution_count": 215,
   "id": "ea707bf6",
   "metadata": {},
   "outputs": [],
   "source": [
    "# convert into dict, fit vectorizer\n",
    "val_dicts = df_feb_val[categorical].to_dict(orient='records')\n",
    "\n",
    "X_val = dv.transform(val_dicts)"
   ]
  },
  {
   "cell_type": "code",
   "execution_count": 216,
   "id": "50767f1d",
   "metadata": {},
   "outputs": [],
   "source": [
    "# get target var from validation set\n",
    "y_train_val = df_feb_val['duration'].values"
   ]
  },
  {
   "cell_type": "code",
   "execution_count": 217,
   "id": "80e1e038",
   "metadata": {},
   "outputs": [],
   "source": [
    "# test model with validation set\n",
    "y_pred_val = lr.predict(X_val)"
   ]
  },
  {
   "cell_type": "code",
   "execution_count": 218,
   "id": "9edba21a",
   "metadata": {},
   "outputs": [
    {
     "name": "stdout",
     "output_type": "stream",
     "text": [
      "The RMSE on the February validation set is: 7.79\n"
     ]
    }
   ],
   "source": [
    "# observe RMSE\n",
    "print(\"The RMSE on the February validation set is:\",round(mean_squared_error(y_train_val, y_pred_val, squared=False), 2))"
   ]
  }
 ],
 "metadata": {
  "kernelspec": {
   "display_name": "Python 3 (ipykernel)",
   "language": "python",
   "name": "python3"
  },
  "language_info": {
   "codemirror_mode": {
    "name": "ipython",
    "version": 3
   },
   "file_extension": ".py",
   "mimetype": "text/x-python",
   "name": "python",
   "nbconvert_exporter": "python",
   "pygments_lexer": "ipython3",
   "version": "3.10.9"
  }
 },
 "nbformat": 4,
 "nbformat_minor": 5
}
